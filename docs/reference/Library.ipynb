{
  "cells": [
    {
      "cell_type": "raw",
      "metadata": {},
      "source": [
        "---\n",
        "engine: julia\n",
        "\n",
        "execute: \n",
        "  daemon: false\n",
        "---"
      ],
      "id": "cfa38405"
    },
    {
      "cell_type": "code",
      "metadata": {},
      "source": [
        "1+1"
      ],
      "id": "4c07899a",
      "execution_count": null,
      "outputs": []
    },
    {
      "cell_type": "markdown",
      "metadata": {},
      "source": [
        "<!--\n",
        "# Library {#sec-doc}\n",
        "    \n",
        "\n",
        "::: {.callout-note appearance=\"simple\" title=\"docblock\" collapse=false}    \n"
      ],
      "id": "f17fab19"
    },
    {
      "cell_type": "code",
      "metadata": {},
      "source": [
        "#| eval: false\n",
        "Library(bundles::Vector{FunctionBundle})"
      ],
      "id": "2290d1bc",
      "execution_count": null,
      "outputs": []
    },
    {
      "cell_type": "markdown",
      "metadata": {},
      "source": [
        "Creates a library adding all function bundles. \n",
        " \n",
        "The vector of FunctionBundles is `deepcopy`ed so that changes to that vector  don't affect the Library. \n",
        " \n",
        "The internal library of FunctionWrappers is empty.\n",
        " \n",
        "\n",
        "\n",
        ":::\n",
        "    \n",
        "\n",
        " --- \n",
        " \n",
        "::: {.callout-note appearance=\"simple\" title=\"docblock\" collapse=false}    \n",
        "\n",
        "A Library Holds ALL functions that return a 'type' for UTCGP\n",
        " \n",
        "Callable functions come in bundles of FunctionWrappers.\n",
        " \n",
        "So the Library first store the bundles and then unpacks them to create the internal library.\n",
        " \n",
        "\n",
        "\n",
        ":::\n",
        "   \n",
        "-->"
      ],
      "id": "b53bf9e9"
    }
  ],
  "metadata": {
    "kernelspec": {
      "name": "julia-1.10",
      "language": "julia",
      "display_name": "Julia 1.10.3"
    }
  },
  "nbformat": 4,
  "nbformat_minor": 5
}